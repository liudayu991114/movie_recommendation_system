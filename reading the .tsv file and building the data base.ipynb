{
 "cells": [
  {
   "cell_type": "code",
   "execution_count": 1,
   "id": "23dd9dd7",
   "metadata": {},
   "outputs": [],
   "source": [
    "import pandas as pd\n",
    "import csv, sqlite3"
   ]
  },
  {
   "cell_type": "code",
   "execution_count": 5,
   "id": "ba6da0c4",
   "metadata": {},
   "outputs": [
    {
     "name": "stdout",
     "output_type": "stream",
     "text": [
      "the attributes of datasets are shown as follows:\n",
      "the attributes of akas includes：\n",
      "Index(['titleId', 'ordering', 'title', 'region', 'language', 'types',\n",
      "       'attributes', 'isOriginalTitle'],\n",
      "      dtype='object')\n",
      "the attributes of basics includes：\n",
      "Index(['tconst', 'titleType', 'primaryTitle', 'originalTitle', 'isAdult',\n",
      "       'startYear', 'endYear', 'runtimeMinutes', 'genres'],\n",
      "      dtype='object')\n",
      "the attributes of crew includes：\n",
      "Index(['tconst', 'directors', 'writers'], dtype='object')\n",
      "the attributes of episode includes：\n",
      "Index(['tconst', 'parentTconst', 'seasonNumber', 'episodeNumber'], dtype='object')\n",
      "the attributes of principals includes：\n",
      "Index(['tconst', 'ordering', 'nconst', 'category', 'job', 'characters'], dtype='object')\n",
      "the attributes of ratings includes：\n",
      "Index(['tconst', 'averageRating', 'numVotes'], dtype='object')\n"
     ]
    }
   ],
   "source": [
    "#get the attributes of every dataset\n",
    "file_names=['akas','basics','crew','episode','principals','ratings']\n",
    "print(\"the attributes of datasets are shown as follows:\")\n",
    "for i in file_names:\n",
    "    locals()[\"title_\"+i+\"_data\"]=pd.read_csv(f'title.{i}.tsv',sep='\\t')\n",
    "    print(f'the attributes of {i} includes：')\n",
    "    print(locals()[\"title_\"+i+\"_data\"].columns)"
   ]
  },
  {
   "cell_type": "code",
   "execution_count": 2,
   "id": "3d3c2ae1",
   "metadata": {},
   "outputs": [
    {
     "name": "stdout",
     "output_type": "stream",
     "text": [
      "database successfully built\n"
     ]
    },
    {
     "name": "stderr",
     "output_type": "stream",
     "text": [
      "D:\\Anacoda\\lib\\site-packages\\IPython\\core\\interactiveshell.py:3165: DtypeWarning: Columns (7) have mixed types.Specify dtype option on import or set low_memory=False.\n",
      "  has_raised = await self.run_ast_nodes(code_ast.body, cell_name,\n"
     ]
    },
    {
     "name": "stdout",
     "output_type": "stream",
     "text": [
      "the transferring of title.akas is done\n"
     ]
    },
    {
     "name": "stderr",
     "output_type": "stream",
     "text": [
      "D:\\Anacoda\\lib\\site-packages\\IPython\\core\\interactiveshell.py:3165: DtypeWarning: Columns (4,5) have mixed types.Specify dtype option on import or set low_memory=False.\n",
      "  has_raised = await self.run_ast_nodes(code_ast.body, cell_name,\n"
     ]
    },
    {
     "name": "stdout",
     "output_type": "stream",
     "text": [
      "the transferring of title.basics is done\n",
      "the transferring of title.crew is done\n",
      "the transferring of title.episode is done\n",
      "the transferring of title.principals is done\n",
      "the transferring of title.ratings is done\n"
     ]
    }
   ],
   "source": [
    "#building the database in sqlite3 and transferring the imdb data base into our new database\n",
    "imdbDB=sqlite3.connect(\"imdbDB.db\")\n",
    "print(\"database successfully built\")\n",
    "\n",
    "file_names=['akas','basics','crew','episode','principals','ratings']\n",
    "for i in file_names:\n",
    "    locals()[\"title_\"+i+\"_data\"]=pd.read_csv(f'title.{i}.tsv',sep='\\t')\n",
    "    locals()[\"title_\"+i+\"_data\"].to_sql(f'title_{i}',imdbDB,if_exists='append',index=False)\n",
    "    print(f'the transferring of title.{i} is done')\n",
    "imdbDB.close()"
   ]
  },
  {
   "cell_type": "code",
   "execution_count": null,
   "id": "d6f77acb",
   "metadata": {},
   "outputs": [],
   "source": []
  }
 ],
 "metadata": {
  "kernelspec": {
   "display_name": "Python 3",
   "language": "python",
   "name": "python3"
  },
  "language_info": {
   "codemirror_mode": {
    "name": "ipython",
    "version": 3
   },
   "file_extension": ".py",
   "mimetype": "text/x-python",
   "name": "python",
   "nbconvert_exporter": "python",
   "pygments_lexer": "ipython3",
   "version": "3.8.8"
  }
 },
 "nbformat": 4,
 "nbformat_minor": 5
}
